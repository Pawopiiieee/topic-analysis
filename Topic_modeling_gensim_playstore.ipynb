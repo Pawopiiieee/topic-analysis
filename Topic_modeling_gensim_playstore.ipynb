{
  "cells": [
    {
      "cell_type": "markdown",
      "metadata": {
        "colab_type": "text",
        "id": "view-in-github"
      },
      "source": [
        "<a href=\"https://colab.research.google.com/github/Pawopiiieee/FloraAPI/blob/main/Topic_modeling_gensim_playstore.ipynb\" target=\"_parent\"><img src=\"https://colab.research.google.com/assets/colab-badge.svg\" alt=\"Open In Colab\"/></a>"
      ]
    },
    {
      "cell_type": "markdown",
      "metadata": {
        "id": "jn-FmYbw-kWV"
      },
      "source": [
        "# Topic modeling using gensim"
      ]
    },
    {
      "cell_type": "code",
      "execution_count": 1,
      "metadata": {
        "colab": {
          "base_uri": "https://localhost:8080/",
          "height": 864
        },
        "id": "CZ57tSss-kWY",
        "outputId": "11393ede-fddb-4b9a-8a32-1f6af83ecc16"
      },
      "outputs": [
        {
          "name": "stderr",
          "output_type": "stream",
          "text": [
            "/Users/pawopiiieee/anaconda3/lib/python3.11/site-packages/pandas/core/arrays/masked.py:60: UserWarning: Pandas requires version '1.3.6' or newer of 'bottleneck' (version '1.3.5' currently installed).\n",
            "  from pandas.core import (\n"
          ]
        },
        {
          "data": {
            "text/html": [
              "<div>\n",
              "<style scoped>\n",
              "    .dataframe tbody tr th:only-of-type {\n",
              "        vertical-align: middle;\n",
              "    }\n",
              "\n",
              "    .dataframe tbody tr th {\n",
              "        vertical-align: top;\n",
              "    }\n",
              "\n",
              "    .dataframe thead th {\n",
              "        text-align: right;\n",
              "    }\n",
              "</style>\n",
              "<table border=\"1\" class=\"dataframe\">\n",
              "  <thead>\n",
              "    <tr style=\"text-align: right;\">\n",
              "      <th></th>\n",
              "      <th>App Name</th>\n",
              "      <th>App Id</th>\n",
              "      <th>Category</th>\n",
              "      <th>Rating</th>\n",
              "      <th>Rating Count</th>\n",
              "      <th>Installs</th>\n",
              "      <th>Minimum Installs</th>\n",
              "      <th>Maximum Installs</th>\n",
              "      <th>Free</th>\n",
              "      <th>Price</th>\n",
              "      <th>...</th>\n",
              "      <th>Developer Website</th>\n",
              "      <th>Developer Email</th>\n",
              "      <th>Released</th>\n",
              "      <th>Last Updated</th>\n",
              "      <th>Content Rating</th>\n",
              "      <th>Privacy Policy</th>\n",
              "      <th>Ad Supported</th>\n",
              "      <th>In App Purchases</th>\n",
              "      <th>Editors Choice</th>\n",
              "      <th>Scraped Time</th>\n",
              "    </tr>\n",
              "  </thead>\n",
              "  <tbody>\n",
              "    <tr>\n",
              "      <th>0</th>\n",
              "      <td>Gakondo</td>\n",
              "      <td>com.ishakwe.gakondo</td>\n",
              "      <td>Adventure</td>\n",
              "      <td>0.0</td>\n",
              "      <td>0.0</td>\n",
              "      <td>10+</td>\n",
              "      <td>10.0</td>\n",
              "      <td>15</td>\n",
              "      <td>True</td>\n",
              "      <td>0.0</td>\n",
              "      <td>...</td>\n",
              "      <td>https://beniyizibyose.tk/#/</td>\n",
              "      <td>jean21101999@gmail.com</td>\n",
              "      <td>Feb 26, 2020</td>\n",
              "      <td>Feb 26, 2020</td>\n",
              "      <td>Everyone</td>\n",
              "      <td>https://beniyizibyose.tk/projects/</td>\n",
              "      <td>False</td>\n",
              "      <td>False</td>\n",
              "      <td>False</td>\n",
              "      <td>2021-06-15 20:19:35</td>\n",
              "    </tr>\n",
              "    <tr>\n",
              "      <th>1</th>\n",
              "      <td>Ampere Battery Info</td>\n",
              "      <td>com.webserveis.batteryinfo</td>\n",
              "      <td>Tools</td>\n",
              "      <td>4.4</td>\n",
              "      <td>64.0</td>\n",
              "      <td>5,000+</td>\n",
              "      <td>5000.0</td>\n",
              "      <td>7662</td>\n",
              "      <td>True</td>\n",
              "      <td>0.0</td>\n",
              "      <td>...</td>\n",
              "      <td>https://webserveis.netlify.app/</td>\n",
              "      <td>webserveis@gmail.com</td>\n",
              "      <td>May 21, 2020</td>\n",
              "      <td>May 06, 2021</td>\n",
              "      <td>Everyone</td>\n",
              "      <td>https://dev4phones.wordpress.com/licencia-de-uso/</td>\n",
              "      <td>True</td>\n",
              "      <td>False</td>\n",
              "      <td>False</td>\n",
              "      <td>2021-06-15 20:19:35</td>\n",
              "    </tr>\n",
              "    <tr>\n",
              "      <th>2</th>\n",
              "      <td>Vibook</td>\n",
              "      <td>com.doantiepvien.crm</td>\n",
              "      <td>Productivity</td>\n",
              "      <td>0.0</td>\n",
              "      <td>0.0</td>\n",
              "      <td>50+</td>\n",
              "      <td>50.0</td>\n",
              "      <td>58</td>\n",
              "      <td>True</td>\n",
              "      <td>0.0</td>\n",
              "      <td>...</td>\n",
              "      <td>NaN</td>\n",
              "      <td>vnacrewit@gmail.com</td>\n",
              "      <td>Aug 9, 2019</td>\n",
              "      <td>Aug 19, 2019</td>\n",
              "      <td>Everyone</td>\n",
              "      <td>https://www.vietnamairlines.com/vn/en/terms-an...</td>\n",
              "      <td>False</td>\n",
              "      <td>False</td>\n",
              "      <td>False</td>\n",
              "      <td>2021-06-15 20:19:35</td>\n",
              "    </tr>\n",
              "    <tr>\n",
              "      <th>3</th>\n",
              "      <td>Smart City Trichy Public Service Vehicles 17UC...</td>\n",
              "      <td>cst.stJoseph.ug17ucs548</td>\n",
              "      <td>Communication</td>\n",
              "      <td>5.0</td>\n",
              "      <td>5.0</td>\n",
              "      <td>10+</td>\n",
              "      <td>10.0</td>\n",
              "      <td>19</td>\n",
              "      <td>True</td>\n",
              "      <td>0.0</td>\n",
              "      <td>...</td>\n",
              "      <td>http://www.climatesmarttech.com/</td>\n",
              "      <td>climatesmarttech2@gmail.com</td>\n",
              "      <td>Sep 10, 2018</td>\n",
              "      <td>Oct 13, 2018</td>\n",
              "      <td>Everyone</td>\n",
              "      <td>NaN</td>\n",
              "      <td>True</td>\n",
              "      <td>False</td>\n",
              "      <td>False</td>\n",
              "      <td>2021-06-15 20:19:35</td>\n",
              "    </tr>\n",
              "    <tr>\n",
              "      <th>4</th>\n",
              "      <td>GROW.me</td>\n",
              "      <td>com.horodyski.grower</td>\n",
              "      <td>Tools</td>\n",
              "      <td>0.0</td>\n",
              "      <td>0.0</td>\n",
              "      <td>100+</td>\n",
              "      <td>100.0</td>\n",
              "      <td>478</td>\n",
              "      <td>True</td>\n",
              "      <td>0.0</td>\n",
              "      <td>...</td>\n",
              "      <td>http://www.horodyski.com.pl</td>\n",
              "      <td>rmilekhorodyski@gmail.com</td>\n",
              "      <td>Feb 21, 2020</td>\n",
              "      <td>Nov 12, 2018</td>\n",
              "      <td>Everyone</td>\n",
              "      <td>http://www.horodyski.com.pl</td>\n",
              "      <td>False</td>\n",
              "      <td>False</td>\n",
              "      <td>False</td>\n",
              "      <td>2021-06-15 20:19:35</td>\n",
              "    </tr>\n",
              "    <tr>\n",
              "      <th>5</th>\n",
              "      <td>IMOCCI</td>\n",
              "      <td>com.imocci</td>\n",
              "      <td>Social</td>\n",
              "      <td>0.0</td>\n",
              "      <td>0.0</td>\n",
              "      <td>50+</td>\n",
              "      <td>50.0</td>\n",
              "      <td>89</td>\n",
              "      <td>True</td>\n",
              "      <td>0.0</td>\n",
              "      <td>...</td>\n",
              "      <td>http://www.imocci.com</td>\n",
              "      <td>info@imocci.com</td>\n",
              "      <td>Dec 24, 2018</td>\n",
              "      <td>Dec 20, 2019</td>\n",
              "      <td>Teen</td>\n",
              "      <td>https://www.imocci.com/wp-content/uploads/2018...</td>\n",
              "      <td>False</td>\n",
              "      <td>True</td>\n",
              "      <td>False</td>\n",
              "      <td>2021-06-15 20:19:35</td>\n",
              "    </tr>\n",
              "    <tr>\n",
              "      <th>6</th>\n",
              "      <td>unlimited 4G data prank free app</td>\n",
              "      <td>getfreedata.superfatiza.unlimitedjiodataprank</td>\n",
              "      <td>Libraries &amp; Demo</td>\n",
              "      <td>4.5</td>\n",
              "      <td>12.0</td>\n",
              "      <td>1,000+</td>\n",
              "      <td>1000.0</td>\n",
              "      <td>2567</td>\n",
              "      <td>True</td>\n",
              "      <td>0.0</td>\n",
              "      <td>...</td>\n",
              "      <td>NaN</td>\n",
              "      <td>aitomgharfatimezzahra@gmail.com</td>\n",
              "      <td>Sep 23, 2019</td>\n",
              "      <td>Sep 27, 2019</td>\n",
              "      <td>Everyone</td>\n",
              "      <td>https://sites.google.com/view/unlimited4gdatap...</td>\n",
              "      <td>True</td>\n",
              "      <td>False</td>\n",
              "      <td>False</td>\n",
              "      <td>2021-06-15 20:19:35</td>\n",
              "    </tr>\n",
              "    <tr>\n",
              "      <th>7</th>\n",
              "      <td>The Everyday Calendar</td>\n",
              "      <td>com.mozaix.simoneboard</td>\n",
              "      <td>Lifestyle</td>\n",
              "      <td>2.0</td>\n",
              "      <td>39.0</td>\n",
              "      <td>500+</td>\n",
              "      <td>500.0</td>\n",
              "      <td>702</td>\n",
              "      <td>True</td>\n",
              "      <td>0.0</td>\n",
              "      <td>...</td>\n",
              "      <td>NaN</td>\n",
              "      <td>elementuser03@gmail.com</td>\n",
              "      <td>Jun 21, 2019</td>\n",
              "      <td>Jun 21, 2019</td>\n",
              "      <td>Everyone</td>\n",
              "      <td>https://www.freeprivacypolicy.com/privacy/view...</td>\n",
              "      <td>False</td>\n",
              "      <td>False</td>\n",
              "      <td>False</td>\n",
              "      <td>2021-06-15 20:19:35</td>\n",
              "    </tr>\n",
              "    <tr>\n",
              "      <th>8</th>\n",
              "      <td>WhatsOpen</td>\n",
              "      <td>com.whatsopen.app</td>\n",
              "      <td>Communication</td>\n",
              "      <td>0.0</td>\n",
              "      <td>0.0</td>\n",
              "      <td>10+</td>\n",
              "      <td>10.0</td>\n",
              "      <td>18</td>\n",
              "      <td>True</td>\n",
              "      <td>0.0</td>\n",
              "      <td>...</td>\n",
              "      <td>http://yilvermolinah.com</td>\n",
              "      <td>yilver.mh1996@gmail.com</td>\n",
              "      <td>NaN</td>\n",
              "      <td>Dec 07, 2018</td>\n",
              "      <td>Teen</td>\n",
              "      <td>http://elcafedelamanana.yilvermolinah.com/poli...</td>\n",
              "      <td>False</td>\n",
              "      <td>False</td>\n",
              "      <td>False</td>\n",
              "      <td>2021-06-15 20:19:35</td>\n",
              "    </tr>\n",
              "    <tr>\n",
              "      <th>9</th>\n",
              "      <td>Neon 3d Iron Tech Keyboard Theme</td>\n",
              "      <td>com.ikeyboard.theme.neon_3d.iron.tech</td>\n",
              "      <td>Personalization</td>\n",
              "      <td>4.7</td>\n",
              "      <td>820.0</td>\n",
              "      <td>50,000+</td>\n",
              "      <td>50000.0</td>\n",
              "      <td>62433</td>\n",
              "      <td>True</td>\n",
              "      <td>0.0</td>\n",
              "      <td>...</td>\n",
              "      <td>https://trendyteme888-31139.web.app</td>\n",
              "      <td>trendyteme.888@gmail.com</td>\n",
              "      <td>Sep 22, 2019</td>\n",
              "      <td>Oct 07, 2020</td>\n",
              "      <td>Everyone</td>\n",
              "      <td>http://bit.ly/EmojiThemePro</td>\n",
              "      <td>True</td>\n",
              "      <td>False</td>\n",
              "      <td>False</td>\n",
              "      <td>2021-06-15 20:19:35</td>\n",
              "    </tr>\n",
              "  </tbody>\n",
              "</table>\n",
              "<p>10 rows × 24 columns</p>\n",
              "</div>"
            ],
            "text/plain": [
              "                                            App Name  \\\n",
              "0                                            Gakondo   \n",
              "1                                Ampere Battery Info   \n",
              "2                                             Vibook   \n",
              "3  Smart City Trichy Public Service Vehicles 17UC...   \n",
              "4                                            GROW.me   \n",
              "5                                             IMOCCI   \n",
              "6                   unlimited 4G data prank free app   \n",
              "7                              The Everyday Calendar   \n",
              "8                                          WhatsOpen   \n",
              "9                   Neon 3d Iron Tech Keyboard Theme   \n",
              "\n",
              "                                          App Id          Category  Rating  \\\n",
              "0                            com.ishakwe.gakondo         Adventure     0.0   \n",
              "1                     com.webserveis.batteryinfo             Tools     4.4   \n",
              "2                           com.doantiepvien.crm      Productivity     0.0   \n",
              "3                        cst.stJoseph.ug17ucs548     Communication     5.0   \n",
              "4                           com.horodyski.grower             Tools     0.0   \n",
              "5                                     com.imocci            Social     0.0   \n",
              "6  getfreedata.superfatiza.unlimitedjiodataprank  Libraries & Demo     4.5   \n",
              "7                         com.mozaix.simoneboard         Lifestyle     2.0   \n",
              "8                              com.whatsopen.app     Communication     0.0   \n",
              "9          com.ikeyboard.theme.neon_3d.iron.tech   Personalization     4.7   \n",
              "\n",
              "   Rating Count Installs  Minimum Installs  Maximum Installs  Free  Price  \\\n",
              "0           0.0      10+              10.0                15  True    0.0   \n",
              "1          64.0   5,000+            5000.0              7662  True    0.0   \n",
              "2           0.0      50+              50.0                58  True    0.0   \n",
              "3           5.0      10+              10.0                19  True    0.0   \n",
              "4           0.0     100+             100.0               478  True    0.0   \n",
              "5           0.0      50+              50.0                89  True    0.0   \n",
              "6          12.0   1,000+            1000.0              2567  True    0.0   \n",
              "7          39.0     500+             500.0               702  True    0.0   \n",
              "8           0.0      10+              10.0                18  True    0.0   \n",
              "9         820.0  50,000+           50000.0             62433  True    0.0   \n",
              "\n",
              "   ...                    Developer Website                  Developer Email  \\\n",
              "0  ...          https://beniyizibyose.tk/#/           jean21101999@gmail.com   \n",
              "1  ...      https://webserveis.netlify.app/             webserveis@gmail.com   \n",
              "2  ...                                  NaN              vnacrewit@gmail.com   \n",
              "3  ...     http://www.climatesmarttech.com/      climatesmarttech2@gmail.com   \n",
              "4  ...          http://www.horodyski.com.pl        rmilekhorodyski@gmail.com   \n",
              "5  ...                http://www.imocci.com                  info@imocci.com   \n",
              "6  ...                                  NaN  aitomgharfatimezzahra@gmail.com   \n",
              "7  ...                                  NaN          elementuser03@gmail.com   \n",
              "8  ...             http://yilvermolinah.com          yilver.mh1996@gmail.com   \n",
              "9  ...  https://trendyteme888-31139.web.app         trendyteme.888@gmail.com   \n",
              "\n",
              "       Released  Last Updated Content Rating  \\\n",
              "0  Feb 26, 2020  Feb 26, 2020       Everyone   \n",
              "1  May 21, 2020  May 06, 2021       Everyone   \n",
              "2   Aug 9, 2019  Aug 19, 2019       Everyone   \n",
              "3  Sep 10, 2018  Oct 13, 2018       Everyone   \n",
              "4  Feb 21, 2020  Nov 12, 2018       Everyone   \n",
              "5  Dec 24, 2018  Dec 20, 2019           Teen   \n",
              "6  Sep 23, 2019  Sep 27, 2019       Everyone   \n",
              "7  Jun 21, 2019  Jun 21, 2019       Everyone   \n",
              "8           NaN  Dec 07, 2018           Teen   \n",
              "9  Sep 22, 2019  Oct 07, 2020       Everyone   \n",
              "\n",
              "                                      Privacy Policy Ad Supported  \\\n",
              "0                 https://beniyizibyose.tk/projects/        False   \n",
              "1  https://dev4phones.wordpress.com/licencia-de-uso/         True   \n",
              "2  https://www.vietnamairlines.com/vn/en/terms-an...        False   \n",
              "3                                                NaN         True   \n",
              "4                        http://www.horodyski.com.pl        False   \n",
              "5  https://www.imocci.com/wp-content/uploads/2018...        False   \n",
              "6  https://sites.google.com/view/unlimited4gdatap...         True   \n",
              "7  https://www.freeprivacypolicy.com/privacy/view...        False   \n",
              "8  http://elcafedelamanana.yilvermolinah.com/poli...        False   \n",
              "9                        http://bit.ly/EmojiThemePro         True   \n",
              "\n",
              "  In App Purchases Editors Choice         Scraped Time  \n",
              "0            False          False  2021-06-15 20:19:35  \n",
              "1            False          False  2021-06-15 20:19:35  \n",
              "2            False          False  2021-06-15 20:19:35  \n",
              "3            False          False  2021-06-15 20:19:35  \n",
              "4            False          False  2021-06-15 20:19:35  \n",
              "5             True          False  2021-06-15 20:19:35  \n",
              "6            False          False  2021-06-15 20:19:35  \n",
              "7            False          False  2021-06-15 20:19:35  \n",
              "8            False          False  2021-06-15 20:19:35  \n",
              "9            False          False  2021-06-15 20:19:35  \n",
              "\n",
              "[10 rows x 24 columns]"
            ]
          },
          "execution_count": 1,
          "metadata": {},
          "output_type": "execute_result"
        }
      ],
      "source": [
        "import pandas as pd\n",
        "data = pd.read_csv('google-playstore.csv');\n",
        "(data.head(10))\n"
      ]
    },
    {
      "cell_type": "code",
      "execution_count": 2,
      "metadata": {
        "colab": {
          "base_uri": "https://localhost:8080/"
        },
        "id": "Lt9JRkI7-kWZ",
        "outputId": "6be0dd57-b9d3-4fa0-d258-3106ab12bdb2"
      },
      "outputs": [
        {
          "name": "stderr",
          "output_type": "stream",
          "text": [
            "/var/folders/z_/nkxn8qhx5h95fs489wh466rr0000gn/T/ipykernel_10384/41399936.py:2: SettingWithCopyWarning: \n",
            "A value is trying to be set on a copy of a slice from a DataFrame.\n",
            "Try using .loc[row_indexer,col_indexer] = value instead\n",
            "\n",
            "See the caveats in the documentation: https://pandas.pydata.org/pandas-docs/stable/user_guide/indexing.html#returning-a-view-versus-a-copy\n",
            "  data_text['index'] = data_text.index\n"
          ]
        }
      ],
      "source": [
        "data_text = data[['App Name']]\n",
        "data_text['index'] = data_text.index\n",
        "documents = data_text.sample(2000)\n",
        "\n",
        "# print(data_text)"
      ]
    },
    {
      "cell_type": "code",
      "execution_count": 3,
      "metadata": {
        "colab": {
          "base_uri": "https://localhost:8080/"
        },
        "id": "sunV5_F--kWZ",
        "outputId": "ba2f5b47-fa94-4819-f393-f23a008df56b"
      },
      "outputs": [
        {
          "name": "stdout",
          "output_type": "stream",
          "text": [
            "                                                  App Name    index\n",
            "4457                                             Paint-Dot     4457\n",
            "5023     Snovel: Audiobooks, Podcasts, Originals (Marathi)     5023\n",
            "6495               Ton Ange Gardien  - Your Guardian Angel     6495\n",
            "7329                                             SmartSong     7329\n",
            "7416                                             Land Area     7416\n",
            "...                                                    ...      ...\n",
            "2308392                           Womens Ankle Boots Ideas  2308392\n",
            "2310777                      English To Swahili Dictionary  2310777\n",
            "2311420                                            Саха FM  2311420\n",
            "2311689                                   Bee2waste Mobile  2311689\n",
            "2312323                                      UniBS Library  2312323\n",
            "\n",
            "[2000 rows x 2 columns]\n"
          ]
        }
      ],
      "source": [
        "documents = documents.sort_values(by=['index'])\n",
        "print((documents))"
      ]
    },
    {
      "cell_type": "code",
      "execution_count": 5,
      "metadata": {
        "colab": {
          "base_uri": "https://localhost:8080/",
          "height": 217
        },
        "id": "80Y7jEoi-5S2",
        "outputId": "e786a16f-1f41-4668-aa7a-441f2b5446e8"
      },
      "outputs": [
        {
          "data": {
            "image/png": "[encoded data removed]",
            "text/plain": [
              "<PIL.Image.Image image mode=RGB size=400x200>"
            ]
          },
          "execution_count": 5,
          "metadata": {},
          "output_type": "execute_result"
        }
      ],
      "source": [
        "# Import the wordcloud library\n",
        "from wordcloud import WordCloud\n",
        "values = list(data_text['App Name'].values)\n",
        "strings = map(str, values)\n",
        "long_string = ','.join(strings)\n",
        "wordcloud = WordCloud(background_color=\"white\", max_words=1000, contour_width=3, contour_color='steelblue')\n",
        "wordcloud.generate(long_string)\n",
        "\n",
        "# Visualize the word cloud\n",
        "wordcloud.to_image()"
      ]
    },
    {
      "cell_type": "code",
      "execution_count": 4,
      "metadata": {
        "colab": {
          "base_uri": "https://localhost:8080/"
        },
        "id": "iJZS7WMy-kWZ",
        "outputId": "f4a73d4f-9eca-4cf4-ac5c-a3929e542bf9"
      },
      "outputs": [
        {
          "name": "stderr",
          "output_type": "stream",
          "text": [
            "[nltk_data] Downloading package wordnet to\n",
            "[nltk_data]     /Users/pawopiiieee/nltk_data...\n",
            "[nltk_data]   Package wordnet is already up-to-date!\n"
          ]
        }
      ],
      "source": [
        "import gensim\n",
        "from gensim.utils import simple_preprocess\n",
        "from gensim.parsing.preprocessing import STOPWORDS\n",
        "from nltk.stem import WordNetLemmatizer, SnowballStemmer\n",
        "from nltk.stem.porter import *\n",
        "import numpy as np\n",
        "np.random.seed(2018)\n",
        "import nltk\n",
        "nltk.download('wordnet')\n",
        "\n",
        "lemmatizer = WordNetLemmatizer()"
      ]
    },
    {
      "cell_type": "code",
      "execution_count": 5,
      "metadata": {
        "id": "1Rc_ELcP-kWZ"
      },
      "outputs": [],
      "source": [
        "def lemmatize_stemming(text):\n",
        "    return lemmatizer.lemmatize(text)\n",
        "def preprocess(text):\n",
        "    result = []\n",
        "    for token in gensim.utils.simple_preprocess(text):\n",
        "        if token not in gensim.parsing.preprocessing.STOPWORDS and len(token) > 3:\n",
        "           # result.append(token)\n",
        "            result.append(lemmatize_stemming(token))\n",
        "    return result"
      ]
    },
    {
      "cell_type": "code",
      "execution_count": 7,
      "metadata": {
        "colab": {
          "base_uri": "https://localhost:8080/"
        },
        "id": "4jMq93Ot-kWa",
        "outputId": "0eafedbb-3fff-4d59-a857-748b5cdbc808"
      },
      "outputs": [
        {
          "name": "stdout",
          "output_type": "stream",
          "text": [
            "original document: \n",
            "['English', 'To', 'Swahili', 'Dictionary']\n",
            "\n",
            "\n",
            " tokenized and lemmatized document: \n",
            "['english', 'swahili', 'dictionary']\n"
          ]
        }
      ],
      "source": [
        "doc_sample = documents[documents['index'] == 2310777].values[0][0]\n",
        "print('original document: ')\n",
        "words = []\n",
        "for word in doc_sample.split(' '):\n",
        "    words.append(word)\n",
        "print(words)\n",
        "print('\\n\\n tokenized and lemmatized document: ')\n",
        "print(preprocess(doc_sample))"
      ]
    },
    {
      "cell_type": "markdown",
      "metadata": {
        "id": "dzvnjzpB-kWa"
      },
      "source": [
        "We now apply the preprocessing to all the headlines and print the first 10 results"
      ]
    },
    {
      "cell_type": "code",
      "execution_count": 8,
      "metadata": {
        "colab": {
          "base_uri": "https://localhost:8080/"
        },
        "id": "wIDUpYxd-kWa",
        "outputId": "3baeb6c8-a3a3-4b86-cc21-f370e4fd0772"
      },
      "outputs": [
        {
          "data": {
            "text/plain": [
              "4457                                              [paint]\n",
              "5023    [snovel, audiobooks, podcasts, original, marathi]\n",
              "6495                     [ange, gardien, guardian, angel]\n",
              "7329                                          [smartsong]\n",
              "7416                                         [land, area]\n",
              "7915         [mirza, kart, india, best, online, shopping]\n",
              "9295                             [gold, life, foundation]\n",
              "9302                                        [csea, alert]\n",
              "9581                                           [gtronics]\n",
              "9682                                             [decide]\n",
              "Name: App Name, dtype: object"
            ]
          },
          "execution_count": 8,
          "metadata": {},
          "output_type": "execute_result"
        }
      ],
      "source": [
        "processed_docs = documents['App Name'].map(preprocess)\n",
        "### print the first 10 results\n",
        "processed_docs[:10]"
      ]
    },
    {
      "cell_type": "code",
      "execution_count": 9,
      "metadata": {
        "colab": {
          "base_uri": "https://localhost:8080/"
        },
        "id": "JZjpcV0W-kWa",
        "outputId": "1d985fa4-c635-428d-9df9-0c07297f607a"
      },
      "outputs": [
        {
          "name": "stdout",
          "output_type": "stream",
          "text": [
            "0 paint\n",
            "1 audiobooks\n",
            "2 marathi\n",
            "3 original\n",
            "4 podcasts\n",
            "5 snovel\n",
            "6 ange\n",
            "7 angel\n",
            "8 gardien\n",
            "9 guardian\n",
            "10 smartsong\n"
          ]
        }
      ],
      "source": [
        "dictionary = gensim.corpora.Dictionary(processed_docs)\n",
        "count = 0\n",
        "for k, v in dictionary.iteritems():\n",
        "    print(k, v)\n",
        "    count += 1\n",
        "    if count > 10:\n",
        "        break"
      ]
    },
    {
      "cell_type": "code",
      "execution_count": 10,
      "metadata": {
        "id": "46vdYvRj-kWa"
      },
      "outputs": [],
      "source": [
        "dictionary.filter_extremes(no_below=15, no_above=0.5, keep_n=100000)"
      ]
    },
    {
      "cell_type": "code",
      "execution_count": 11,
      "metadata": {
        "colab": {
          "base_uri": "https://localhost:8080/"
        },
        "id": "4fDkjod8-kWa",
        "outputId": "fa198864-513f-417c-fd60-9cfc16884c01"
      },
      "outputs": [
        {
          "data": {
            "text/plain": [
              "[(6, 1)]"
            ]
          },
          "execution_count": 11,
          "metadata": {},
          "output_type": "execute_result"
        }
      ],
      "source": [
        "bow_corpus = [dictionary.doc2bow(doc) for doc in processed_docs]\n",
        "bow_corpus[300]"
      ]
    },
    {
      "cell_type": "markdown",
      "metadata": {
        "id": "T9YC8Gwy-kWa"
      },
      "source": [
        "(164, 1), (241, 1), (615, 1), (891, 1), (4161, 1), (4162, 1), (4163, 1)]"
      ]
    },
    {
      "cell_type": "code",
      "execution_count": 12,
      "metadata": {
        "id": "OHMzIWor-kWa"
      },
      "outputs": [
        {
          "name": "stdout",
          "output_type": "stream",
          "text": [
            "Word 6 (\"game\") appears 1 time.\n"
          ]
        }
      ],
      "source": [
        "bow_doc_4310 = bow_corpus[300]\n",
        "for i in range(len(bow_doc_4310)):\n",
        "    print(\"Word {} (\\\"{}\\\") appears {} time.\".format(bow_doc_4310[i][0],\n",
        "                                               dictionary[bow_doc_4310[i][0]],\n",
        "bow_doc_4310[i][1]))"
      ]
    },
    {
      "cell_type": "code",
      "execution_count": 13,
      "metadata": {
        "colab": {
          "base_uri": "https://localhost:8080/"
        },
        "id": "Cw5bAFnd-kWb",
        "outputId": "7f60fe83-6da5-4fe6-e42e-93e311d64c19"
      },
      "outputs": [
        {
          "name": "stdout",
          "output_type": "stream",
          "text": [
            "[]\n"
          ]
        }
      ],
      "source": [
        "from gensim import corpora, models\n",
        "tfidf = models.TfidfModel(bow_corpus)\n",
        "corpus_tfidf = tfidf[bow_corpus]\n",
        "from pprint import pprint\n",
        "for doc in corpus_tfidf:\n",
        "    pprint(doc)\n",
        "    break"
      ]
    },
    {
      "cell_type": "markdown",
      "metadata": {
        "id": "3Arcv6AF-kWb"
      },
      "source": [
        "[(0, 0.6152999901345029),\n",
        " (1, 0.3328037088259979),\n",
        " (2, 0.5684441376989424),\n",
        " (3, 0.43303449729536203)]"
      ]
    },
    {
      "cell_type": "code",
      "execution_count": 14,
      "metadata": {
        "colab": {
          "base_uri": "https://localhost:8080/"
        },
        "id": "KI38OK-f-kWb",
        "outputId": "cafffbb6-9082-4574-ef61-e0a7c727ca21"
      },
      "outputs": [],
      "source": [
        "lda_model = gensim.models.LdaMulticore(bow_corpus, num_topics=10, id2word=dictionary, passes=2, workers=2)"
      ]
    },
    {
      "cell_type": "code",
      "execution_count": 15,
      "metadata": {
        "colab": {
          "base_uri": "https://localhost:8080/"
        },
        "id": "gNpQn7BD-kWb",
        "outputId": "218776fc-2a40-4b94-d32f-254519eb0898"
      },
      "outputs": [
        {
          "name": "stdout",
          "output_type": "stream",
          "text": [
            "Topic: 0 \n",
            "Words: 0.469*\"theme\" + 0.216*\"wallpaper\" + 0.098*\"puzzle\" + 0.052*\"free\" + 0.052*\"music\" + 0.052*\"live\" + 0.029*\"radio\" + 0.006*\"game\" + 0.005*\"photo\" + 0.005*\"mobile\"\n",
            "Topic: 1 \n",
            "Words: 0.530*\"game\" + 0.178*\"live\" + 0.069*\"online\" + 0.048*\"photo\" + 0.048*\"offline\" + 0.028*\"puzzle\" + 0.026*\"radio\" + 0.026*\"wallpaper\" + 0.026*\"mobile\" + 0.005*\"free\"\n",
            "Topic: 2 \n",
            "Words: 0.497*\"puzzle\" + 0.134*\"keyboard\" + 0.119*\"theme\" + 0.091*\"game\" + 0.049*\"wallpaper\" + 0.049*\"live\" + 0.025*\"free\" + 0.019*\"photo\" + 0.004*\"radio\" + 0.004*\"mobile\"\n",
            "Topic: 3 \n",
            "Words: 0.732*\"radio\" + 0.091*\"online\" + 0.069*\"free\" + 0.056*\"live\" + 0.016*\"photo\" + 0.011*\"offline\" + 0.008*\"music\" + 0.006*\"game\" + 0.006*\"puzzle\" + 0.001*\"wallpaper\"\n",
            "Topic: 4 \n",
            "Words: 0.384*\"wallpaper\" + 0.327*\"game\" + 0.084*\"keyboard\" + 0.064*\"music\" + 0.044*\"free\" + 0.024*\"radio\" + 0.024*\"puzzle\" + 0.024*\"theme\" + 0.005*\"mobile\" + 0.005*\"photo\"\n",
            "Topic: 5 \n",
            "Words: 0.341*\"photo\" + 0.308*\"keyboard\" + 0.244*\"offline\" + 0.073*\"theme\" + 0.011*\"free\" + 0.010*\"game\" + 0.002*\"wallpaper\" + 0.002*\"radio\" + 0.002*\"mobile\" + 0.002*\"live\"\n",
            "Topic: 6 \n",
            "Words: 0.840*\"game\" + 0.065*\"mobile\" + 0.040*\"keyboard\" + 0.015*\"wallpaper\" + 0.015*\"offline\" + 0.003*\"radio\" + 0.003*\"free\" + 0.003*\"photo\" + 0.003*\"music\" + 0.003*\"live\"\n",
            "Topic: 7 \n",
            "Words: 0.631*\"mobile\" + 0.124*\"photo\" + 0.088*\"music\" + 0.084*\"wallpaper\" + 0.022*\"radio\" + 0.022*\"free\" + 0.004*\"game\" + 0.004*\"keyboard\" + 0.004*\"live\" + 0.004*\"offline\"\n",
            "Topic: 8 \n",
            "Words: 0.480*\"wallpaper\" + 0.233*\"online\" + 0.208*\"live\" + 0.040*\"puzzle\" + 0.009*\"radio\" + 0.009*\"keyboard\" + 0.009*\"offline\" + 0.002*\"game\" + 0.002*\"free\" + 0.002*\"mobile\"\n",
            "Topic: 9 \n",
            "Words: 0.442*\"free\" + 0.167*\"music\" + 0.147*\"wallpaper\" + 0.093*\"game\" + 0.042*\"radio\" + 0.040*\"photo\" + 0.031*\"mobile\" + 0.017*\"online\" + 0.006*\"keyboard\" + 0.006*\"offline\"\n"
          ]
        }
      ],
      "source": [
        "for idx, topic in lda_model.print_topics(-1):\n",
        "    print('Topic: {} \\nWords: {}'.format(idx, topic))"
      ]
    },
    {
      "cell_type": "markdown",
      "metadata": {
        "id": "yZT07JHc-kWb"
      },
      "source": [
        "## Running LDA using TF-IDF"
      ]
    },
    {
      "cell_type": "code",
      "execution_count": 16,
      "metadata": {
        "colab": {
          "base_uri": "https://localhost:8080/"
        },
        "id": "fFxI9CUr-kWb",
        "outputId": "a29b1aee-e0c0-4d3d-a9eb-0b91ef0127dc"
      },
      "outputs": [
        {
          "name": "stdout",
          "output_type": "stream",
          "text": [
            "Topic: 0 Word: 0.468*\"free\" + 0.362*\"game\" + 0.068*\"offline\" + 0.038*\"online\" + 0.019*\"mobile\" + 0.013*\"radio\" + 0.010*\"puzzle\" + 0.008*\"keyboard\" + 0.006*\"live\" + 0.002*\"wallpaper\"\n",
            "Topic: 1 Word: 0.358*\"radio\" + 0.231*\"keyboard\" + 0.216*\"music\" + 0.115*\"wallpaper\" + 0.040*\"free\" + 0.024*\"online\" + 0.006*\"theme\" + 0.001*\"game\" + 0.001*\"mobile\" + 0.001*\"photo\"\n",
            "Topic: 2 Word: 0.816*\"wallpaper\" + 0.044*\"mobile\" + 0.024*\"radio\" + 0.024*\"game\" + 0.024*\"music\" + 0.020*\"theme\" + 0.018*\"keyboard\" + 0.005*\"free\" + 0.005*\"photo\" + 0.005*\"online\"\n",
            "Topic: 3 Word: 0.466*\"wallpaper\" + 0.351*\"game\" + 0.054*\"mobile\" + 0.051*\"free\" + 0.027*\"theme\" + 0.021*\"live\" + 0.011*\"photo\" + 0.003*\"radio\" + 0.003*\"online\" + 0.003*\"music\"\n",
            "Topic: 4 Word: 0.389*\"theme\" + 0.361*\"offline\" + 0.098*\"keyboard\" + 0.031*\"radio\" + 0.031*\"puzzle\" + 0.028*\"live\" + 0.017*\"game\" + 0.017*\"online\" + 0.013*\"wallpaper\" + 0.003*\"free\"\n",
            "Topic: 5 Word: 0.831*\"photo\" + 0.067*\"radio\" + 0.051*\"free\" + 0.017*\"music\" + 0.004*\"game\" + 0.004*\"wallpaper\" + 0.004*\"mobile\" + 0.004*\"online\" + 0.004*\"keyboard\" + 0.004*\"puzzle\"\n",
            "Topic: 6 Word: 0.431*\"radio\" + 0.359*\"live\" + 0.106*\"wallpaper\" + 0.038*\"offline\" + 0.025*\"free\" + 0.018*\"music\" + 0.011*\"puzzle\" + 0.002*\"game\" + 0.002*\"photo\" + 0.002*\"mobile\"\n",
            "Topic: 7 Word: 0.431*\"mobile\" + 0.367*\"online\" + 0.132*\"radio\" + 0.029*\"photo\" + 0.016*\"music\" + 0.003*\"game\" + 0.003*\"wallpaper\" + 0.003*\"free\" + 0.003*\"keyboard\" + 0.003*\"offline\"\n",
            "Topic: 8 Word: 0.633*\"puzzle\" + 0.116*\"mobile\" + 0.095*\"game\" + 0.041*\"theme\" + 0.023*\"radio\" + 0.023*\"music\" + 0.019*\"live\" + 0.017*\"free\" + 0.016*\"wallpaper\" + 0.004*\"photo\"\n",
            "Topic: 9 Word: 0.506*\"game\" + 0.192*\"free\" + 0.121*\"wallpaper\" + 0.112*\"online\" + 0.034*\"radio\" + 0.013*\"theme\" + 0.003*\"photo\" + 0.003*\"mobile\" + 0.003*\"music\" + 0.003*\"offline\"\n"
          ]
        }
      ],
      "source": [
        "lda_model_tfidf = gensim.models.LdaMulticore(corpus_tfidf, num_topics=10, id2word=dictionary, passes=2, workers=4)\n",
        "for idx, topic in lda_model_tfidf.print_topics(-1):\n",
        "    print('Topic: {} Word: {}'.format(idx, topic))"
      ]
    },
    {
      "cell_type": "code",
      "execution_count": 17,
      "metadata": {
        "colab": {
          "base_uri": "https://localhost:8080/"
        },
        "id": "dEon3XR5-kWb",
        "outputId": "7a646566-f59d-470d-d39d-7d136be87761"
      },
      "outputs": [
        {
          "data": {
            "text/plain": [
              "['english', 'swahili', 'dictionary']"
            ]
          },
          "execution_count": 17,
          "metadata": {},
          "output_type": "execute_result"
        }
      ],
      "source": [
        "processed_docs[2310777]"
      ]
    },
    {
      "cell_type": "code",
      "execution_count": 18,
      "metadata": {
        "colab": {
          "base_uri": "https://localhost:8080/"
        },
        "id": "yOQPaBUz-kWc",
        "outputId": "83b16638-4bb4-4ceb-ce8f-2ddd59ebf5fb"
      },
      "outputs": [
        {
          "name": "stdout",
          "output_type": "stream",
          "text": [
            "\n",
            "Score: 0.10000000149011612\t \n",
            "Topic: 0.469*\"theme\" + 0.216*\"wallpaper\" + 0.098*\"puzzle\" + 0.052*\"free\" + 0.052*\"music\" + 0.052*\"live\" + 0.029*\"radio\" + 0.006*\"game\" + 0.005*\"photo\" + 0.005*\"mobile\"\n",
            "\n",
            "Score: 0.10000000149011612\t \n",
            "Topic: 0.530*\"game\" + 0.178*\"live\" + 0.069*\"online\" + 0.048*\"photo\" + 0.048*\"offline\" + 0.028*\"puzzle\" + 0.026*\"radio\" + 0.026*\"wallpaper\" + 0.026*\"mobile\" + 0.005*\"free\"\n",
            "\n",
            "Score: 0.10000000149011612\t \n",
            "Topic: 0.497*\"puzzle\" + 0.134*\"keyboard\" + 0.119*\"theme\" + 0.091*\"game\" + 0.049*\"wallpaper\" + 0.049*\"live\" + 0.025*\"free\" + 0.019*\"photo\" + 0.004*\"radio\" + 0.004*\"mobile\"\n",
            "\n",
            "Score: 0.10000000149011612\t \n",
            "Topic: 0.732*\"radio\" + 0.091*\"online\" + 0.069*\"free\" + 0.056*\"live\" + 0.016*\"photo\" + 0.011*\"offline\" + 0.008*\"music\" + 0.006*\"game\" + 0.006*\"puzzle\" + 0.001*\"wallpaper\"\n",
            "\n",
            "Score: 0.10000000149011612\t \n",
            "Topic: 0.384*\"wallpaper\" + 0.327*\"game\" + 0.084*\"keyboard\" + 0.064*\"music\" + 0.044*\"free\" + 0.024*\"radio\" + 0.024*\"puzzle\" + 0.024*\"theme\" + 0.005*\"mobile\" + 0.005*\"photo\"\n",
            "\n",
            "Score: 0.10000000149011612\t \n",
            "Topic: 0.341*\"photo\" + 0.308*\"keyboard\" + 0.244*\"offline\" + 0.073*\"theme\" + 0.011*\"free\" + 0.010*\"game\" + 0.002*\"wallpaper\" + 0.002*\"radio\" + 0.002*\"mobile\" + 0.002*\"live\"\n",
            "\n",
            "Score: 0.10000000149011612\t \n",
            "Topic: 0.840*\"game\" + 0.065*\"mobile\" + 0.040*\"keyboard\" + 0.015*\"wallpaper\" + 0.015*\"offline\" + 0.003*\"radio\" + 0.003*\"free\" + 0.003*\"photo\" + 0.003*\"music\" + 0.003*\"live\"\n",
            "\n",
            "Score: 0.10000000149011612\t \n",
            "Topic: 0.631*\"mobile\" + 0.124*\"photo\" + 0.088*\"music\" + 0.084*\"wallpaper\" + 0.022*\"radio\" + 0.022*\"free\" + 0.004*\"game\" + 0.004*\"keyboard\" + 0.004*\"live\" + 0.004*\"offline\"\n",
            "\n",
            "Score: 0.10000000149011612\t \n",
            "Topic: 0.480*\"wallpaper\" + 0.233*\"online\" + 0.208*\"live\" + 0.040*\"puzzle\" + 0.009*\"radio\" + 0.009*\"keyboard\" + 0.009*\"offline\" + 0.002*\"game\" + 0.002*\"free\" + 0.002*\"mobile\"\n",
            "\n",
            "Score: 0.10000000149011612\t \n",
            "Topic: 0.442*\"free\" + 0.167*\"music\" + 0.147*\"wallpaper\" + 0.093*\"game\" + 0.042*\"radio\" + 0.040*\"photo\" + 0.031*\"mobile\" + 0.017*\"online\" + 0.006*\"keyboard\" + 0.006*\"offline\"\n"
          ]
        }
      ],
      "source": [
        "for index, score in sorted(lda_model[bow_corpus[1990]], key=lambda tup: -1*tup[1]):\n",
        "    print(\"\\nScore: {}\\t \\nTopic: {}\".format(score, lda_model.print_topic(index, 10)))"
      ]
    },
    {
      "cell_type": "code",
      "execution_count": 19,
      "metadata": {
        "colab": {
          "base_uri": "https://localhost:8080/"
        },
        "id": "qTcgfnBuAhkV",
        "outputId": "2bfcc3ae-4548-4c58-cc77-926f734db781"
      },
      "outputs": [
        {
          "name": "stdout",
          "output_type": "stream",
          "text": [
            "Requirement already satisfied: pyLDAvis in /Users/pawopiiieee/anaconda3/lib/python3.11/site-packages (3.4.1)\n",
            "Requirement already satisfied: numpy>=1.24.2 in /Users/pawopiiieee/anaconda3/lib/python3.11/site-packages (from pyLDAvis) (1.24.3)\n",
            "Requirement already satisfied: scipy in /Users/pawopiiieee/anaconda3/lib/python3.11/site-packages (from pyLDAvis) (1.10.1)\n",
            "Requirement already satisfied: pandas>=2.0.0 in /Users/pawopiiieee/anaconda3/lib/python3.11/site-packages (from pyLDAvis) (2.2.1)\n",
            "Requirement already satisfied: joblib>=1.2.0 in /Users/pawopiiieee/anaconda3/lib/python3.11/site-packages (from pyLDAvis) (1.2.0)\n",
            "Requirement already satisfied: jinja2 in /Users/pawopiiieee/anaconda3/lib/python3.11/site-packages (from pyLDAvis) (3.1.2)\n",
            "Requirement already satisfied: numexpr in /Users/pawopiiieee/anaconda3/lib/python3.11/site-packages (from pyLDAvis) (2.8.4)\n",
            "Requirement already satisfied: funcy in /Users/pawopiiieee/anaconda3/lib/python3.11/site-packages (from pyLDAvis) (2.0)\n",
            "Requirement already satisfied: scikit-learn>=1.0.0 in /Users/pawopiiieee/anaconda3/lib/python3.11/site-packages (from pyLDAvis) (1.2.2)\n",
            "Requirement already satisfied: gensim in /Users/pawopiiieee/anaconda3/lib/python3.11/site-packages (from pyLDAvis) (4.3.0)\n",
            "Requirement already satisfied: setuptools in /Users/pawopiiieee/anaconda3/lib/python3.11/site-packages (from pyLDAvis) (69.1.1)\n",
            "Requirement already satisfied: python-dateutil>=2.8.2 in /Users/pawopiiieee/anaconda3/lib/python3.11/site-packages (from pandas>=2.0.0->pyLDAvis) (2.8.2)\n",
            "Requirement already satisfied: pytz>=2020.1 in /Users/pawopiiieee/anaconda3/lib/python3.11/site-packages (from pandas>=2.0.0->pyLDAvis) (2022.7)\n",
            "Requirement already satisfied: tzdata>=2022.7 in /Users/pawopiiieee/anaconda3/lib/python3.11/site-packages (from pandas>=2.0.0->pyLDAvis) (2024.1)\n",
            "Requirement already satisfied: threadpoolctl>=2.0.0 in /Users/pawopiiieee/anaconda3/lib/python3.11/site-packages (from scikit-learn>=1.0.0->pyLDAvis) (2.2.0)\n",
            "Requirement already satisfied: smart-open>=1.8.1 in /Users/pawopiiieee/anaconda3/lib/python3.11/site-packages (from gensim->pyLDAvis) (5.2.1)\n",
            "Requirement already satisfied: FuzzyTM>=0.4.0 in /Users/pawopiiieee/anaconda3/lib/python3.11/site-packages (from gensim->pyLDAvis) (2.0.5)\n",
            "Requirement already satisfied: MarkupSafe>=2.0 in /Users/pawopiiieee/anaconda3/lib/python3.11/site-packages (from jinja2->pyLDAvis) (2.1.1)\n",
            "Requirement already satisfied: pyfume in /Users/pawopiiieee/anaconda3/lib/python3.11/site-packages (from FuzzyTM>=0.4.0->gensim->pyLDAvis) (0.3.1)\n",
            "Requirement already satisfied: six>=1.5 in /Users/pawopiiieee/anaconda3/lib/python3.11/site-packages (from python-dateutil>=2.8.2->pandas>=2.0.0->pyLDAvis) (1.16.0)\n",
            "Requirement already satisfied: simpful in /Users/pawopiiieee/anaconda3/lib/python3.11/site-packages (from pyfume->FuzzyTM>=0.4.0->gensim->pyLDAvis) (2.12.0)\n",
            "Requirement already satisfied: fst-pso in /Users/pawopiiieee/anaconda3/lib/python3.11/site-packages (from pyfume->FuzzyTM>=0.4.0->gensim->pyLDAvis) (1.8.1)\n",
            "Requirement already satisfied: typing-extensions in /Users/pawopiiieee/anaconda3/lib/python3.11/site-packages (from pyfume->FuzzyTM>=0.4.0->gensim->pyLDAvis) (4.7.1)\n",
            "Requirement already satisfied: miniful in /Users/pawopiiieee/anaconda3/lib/python3.11/site-packages (from fst-pso->pyfume->FuzzyTM>=0.4.0->gensim->pyLDAvis) (0.0.6)\n"
          ]
        }
      ],
      "source": [
        "!pip install pyLDAvis"
      ]
    },
    {
      "cell_type": "code",
      "execution_count": 20,
      "metadata": {
        "colab": {
          "base_uri": "https://localhost:8080/",
          "height": 670
        },
        "id": "lsXV5KLq-kWc",
        "jupyter": {
          "source_hidden": true
        },
        "outputId": "443d80a4-0a16-4375-c33b-7b58a1ab2915"
      },
      "outputs": [
        {
          "name": "stderr",
          "output_type": "stream",
          "text": [
            "/Users/pawopiiieee/anaconda3/lib/python3.11/site-packages/pandas/core/arrays/masked.py:60: UserWarning: Pandas requires version '1.3.6' or newer of 'bottleneck' (version '1.3.5' currently installed).\n",
            "  from pandas.core import (\n",
            "/Users/pawopiiieee/anaconda3/lib/python3.11/site-packages/pandas/core/arrays/masked.py:60: UserWarning: Pandas requires version '1.3.6' or newer of 'bottleneck' (version '1.3.5' currently installed).\n",
            "  from pandas.core import (\n",
            "/Users/pawopiiieee/anaconda3/lib/python3.11/site-packages/pandas/core/arrays/masked.py:60: UserWarning: Pandas requires version '1.3.6' or newer of 'bottleneck' (version '1.3.5' currently installed).\n",
            "  from pandas.core import (\n",
            "/Users/pawopiiieee/anaconda3/lib/python3.11/site-packages/pandas/core/arrays/masked.py:60: UserWarning: Pandas requires version '1.3.6' or newer of 'bottleneck' (version '1.3.5' currently installed).\n",
            "  from pandas.core import (\n",
            "/Users/pawopiiieee/anaconda3/lib/python3.11/site-packages/pandas/core/arrays/masked.py:60: UserWarning: Pandas requires version '1.3.6' or newer of 'bottleneck' (version '1.3.5' currently installed).\n",
            "  from pandas.core import (\n",
            "/Users/pawopiiieee/anaconda3/lib/python3.11/site-packages/pandas/core/arrays/masked.py:60: UserWarning: Pandas requires version '1.3.6' or newer of 'bottleneck' (version '1.3.5' currently installed).\n",
            "  from pandas.core import (\n",
            "/Users/pawopiiieee/anaconda3/lib/python3.11/site-packages/pandas/core/arrays/masked.py:60: UserWarning: Pandas requires version '1.3.6' or newer of 'bottleneck' (version '1.3.5' currently installed).\n",
            "  from pandas.core import (\n",
            "/Users/pawopiiieee/anaconda3/lib/python3.11/site-packages/pandas/core/arrays/masked.py:60: UserWarning: Pandas requires version '1.3.6' or newer of 'bottleneck' (version '1.3.5' currently installed).\n",
            "  from pandas.core import (\n"
          ]
        },
        {
          "data": {
            "text/html": [
              "\n",
              "<link rel=\"stylesheet\" type=\"text/css\" href=\"https://cdn.jsdelivr.net/gh/bmabey/pyLDAvis@3.4.0/pyLDAvis/js/ldavis.v1.0.0.css\">\n",
              "\n",
              "\n",
              "<div id=\"ldavis_el10384121345112482559176417\" style=\"background-color:white;\"></div>\n",
              "<script type=\"text/javascript\">\n",
              "\n",
              "var ldavis_el10384121345112482559176417_data = {\"mdsDat\": {\"x\": [-0.2388599188398036, -0.20996766065042585, 0.12256542644024587, -0.05962448834280078, 0.3246302607645045, 0.05438957225693925, -0.021975768744770353, -0.16475253956236763, 0.07237355024538629, 0.12122156643309204], \"y\": [-0.0722527632952615, -0.09932330640081587, 0.3340016579404505, -0.07639474736987287, -0.15206070495459587, 0.12413321197211286, 0.06953878439215884, 0.09867739588311124, -0.08653896372789696, -0.1397805644393906], \"topics\": [1, 2, 3, 4, 5, 6, 7, 8, 9, 10], \"cluster\": [1, 1, 1, 1, 1, 1, 1, 1, 1, 1], \"Freq\": [17.352853745808385, 15.099989532631092, 13.408834500719369, 13.398949604851651, 11.735632589360083, 7.06317139070563, 6.706745064067903, 6.662378738781388, 4.285765568342584, 4.285679264731914]}, \"tinfo\": {\"Term\": [\"game\", \"radio\", \"wallpaper\", \"mobile\", \"puzzle\", \"theme\", \"free\", \"photo\", \"keyboard\", \"live\", \"online\", \"offline\", \"music\", \"radio\", \"online\", \"live\", \"free\", \"offline\", \"photo\", \"music\", \"puzzle\", \"game\", \"theme\", \"mobile\", \"keyboard\", \"wallpaper\", \"online\", \"live\", \"wallpaper\", \"puzzle\", \"offline\", \"keyboard\", \"radio\", \"music\", \"theme\", \"mobile\", \"photo\", \"free\", \"game\", \"offline\", \"photo\", \"keyboard\", \"theme\", \"free\", \"game\", \"music\", \"puzzle\", \"mobile\", \"live\", \"online\", \"wallpaper\", \"radio\", \"free\", \"music\", \"wallpaper\", \"photo\", \"game\", \"mobile\", \"radio\", \"online\", \"offline\", \"live\", \"keyboard\", \"puzzle\", \"theme\", \"game\", \"mobile\", \"keyboard\", \"offline\", \"wallpaper\", \"music\", \"puzzle\", \"theme\", \"live\", \"online\", \"photo\", \"free\", \"radio\", \"puzzle\", \"theme\", \"keyboard\", \"live\", \"game\", \"wallpaper\", \"free\", \"photo\", \"music\", \"offline\", \"mobile\", \"online\", \"radio\", \"mobile\", \"music\", \"photo\", \"wallpaper\", \"free\", \"radio\", \"offline\", \"puzzle\", \"theme\", \"live\", \"online\", \"keyboard\", \"game\", \"theme\", \"puzzle\", \"wallpaper\", \"music\", \"live\", \"free\", \"radio\", \"offline\", \"mobile\", \"online\", \"keyboard\", \"photo\", \"game\", \"wallpaper\", \"game\", \"music\", \"keyboard\", \"free\", \"puzzle\", \"theme\", \"radio\", \"offline\", \"mobile\", \"live\", \"online\", \"photo\", \"game\", \"live\", \"online\", \"offline\", \"photo\", \"puzzle\", \"mobile\", \"wallpaper\", \"radio\", \"music\", \"theme\", \"keyboard\", \"free\"], \"Freq\": [65.0, 58.0, 56.0, 23.0, 21.0, 21.0, 33.0, 27.0, 25.0, 23.0, 23.0, 17.0, 15.0, 52.437872782529396, 6.516321341339622, 4.022542166401955, 4.978177155828482, 0.793875737007628, 1.148742135299957, 0.5540743705592324, 0.4390922364542583, 0.43946864692032944, 0.08414101315065746, 0.0842191719689515, 0.08418592443576386, 0.08457824532737797, 14.504029358892241, 12.943082563217207, 29.95995044435084, 2.5016123494743776, 0.5909250393796618, 0.5909712130032172, 0.591592262760045, 0.11332425825222708, 0.11327687946805685, 0.11345133009705262, 0.11339788920978983, 0.1135155811298302, 0.11382599710818853, 13.507675289970372, 18.866806771794305, 17.071820260397434, 4.059013886620268, 0.6116362276311847, 0.5385796497100385, 0.10313199914954381, 0.10314371317473987, 0.103267429269133, 0.10316650298160177, 0.10313035518893567, 0.10356929267130965, 0.10353948863251969, 24.4413628841074, 9.26174775790218, 8.157765388806588, 2.23485829943314, 5.138097778038513, 1.6920563031936837, 2.33572755287584, 0.9245612280833342, 0.3435455988800975, 0.3356616420503568, 0.3436493690602348, 0.06433789177207538, 0.064288886323832, 40.72861007736324, 3.154385765309516, 1.9499024631697925, 0.7452152207956971, 0.745998391018438, 0.14290198977305646, 0.14288406939389633, 0.14281227502852056, 0.14289894285720428, 0.14283165115636562, 0.14305553176225835, 0.14323463398999783, 0.14342577717779015, 14.485716796792545, 3.4852493096841233, 3.922659788557524, 1.4159487528788477, 2.666191525432115, 1.416578930574488, 0.7181241059934789, 0.5412391819466752, 0.10373963437284542, 0.10372825797561963, 0.10380565822802865, 0.10375247102404347, 0.10416497579151114, 17.481810327623155, 2.4431839523965717, 3.4264625623382554, 2.3131960630035993, 0.6086388272391998, 0.6087429937928872, 0.11660369968297421, 0.11659571564425052, 0.11657850933139527, 0.11661290905882027, 0.11657801919654631, 0.11670127521277181, 0.11715005815841328, 12.90226797276619, 2.6976248224572448, 5.945745292138897, 1.4246498674141637, 1.4246187062929645, 1.425121999401808, 0.7884125501435666, 0.15105807080168457, 0.15113437198455532, 0.1510476794902978, 0.15108693840286136, 0.15118950615582197, 0.1516636497783463, 6.80483569350528, 5.795448663087992, 1.1299733803204681, 1.4789513208774563, 0.7811083263513293, 0.43181533198783195, 0.43180125413356457, 0.43213899075912754, 0.08281460146184537, 0.08290281059320946, 0.08278812718321132, 0.0827617023583979, 0.08287252837038833, 9.377320060507307, 3.150931170339832, 1.2237498424905713, 0.8455883775641942, 0.845749066276071, 0.4936750543657116, 0.46772372849194666, 0.46815617696008144, 0.46815644070848006, 0.08969476416734076, 0.08963840443140446, 0.08971104238881988, 0.08976185516624709], \"Total\": [65.0, 58.0, 56.0, 23.0, 21.0, 21.0, 33.0, 27.0, 25.0, 23.0, 23.0, 17.0, 15.0, 58.01377381517117, 23.868763649220355, 23.738251483261998, 33.910681596838955, 17.281029893519772, 27.55437347258666, 15.36642197430763, 21.476497981516935, 65.06635610610448, 21.489068390938012, 23.434756896759232, 25.799639595505877, 56.00037391835691, 23.868763649220355, 23.738251483261998, 56.00037391835691, 21.476497981516935, 17.281029893519772, 25.799639595505877, 58.01377381517117, 15.36642197430763, 21.489068390938012, 23.434756896759232, 27.55437347258666, 33.910681596838955, 65.06635610610448, 17.281029893519772, 27.55437347258666, 25.799639595505877, 21.489068390938012, 33.910681596838955, 65.06635610610448, 15.36642197430763, 21.476497981516935, 23.434756896759232, 23.738251483261998, 23.868763649220355, 56.00037391835691, 58.01377381517117, 33.910681596838955, 15.36642197430763, 56.00037391835691, 27.55437347258666, 65.06635610610448, 23.434756896759232, 58.01377381517117, 23.868763649220355, 17.281029893519772, 23.738251483261998, 25.799639595505877, 21.476497981516935, 21.489068390938012, 65.06635610610448, 23.434756896759232, 25.799639595505877, 17.281029893519772, 56.00037391835691, 15.36642197430763, 21.476497981516935, 21.489068390938012, 23.738251483261998, 23.868763649220355, 27.55437347258666, 33.910681596838955, 58.01377381517117, 21.476497981516935, 21.489068390938012, 25.799639595505877, 23.738251483261998, 65.06635610610448, 56.00037391835691, 33.910681596838955, 27.55437347258666, 15.36642197430763, 17.281029893519772, 23.434756896759232, 23.868763649220355, 58.01377381517117, 23.434756896759232, 15.36642197430763, 27.55437347258666, 56.00037391835691, 33.910681596838955, 58.01377381517117, 17.281029893519772, 21.476497981516935, 21.489068390938012, 23.738251483261998, 23.868763649220355, 25.799639595505877, 65.06635610610448, 21.489068390938012, 21.476497981516935, 56.00037391835691, 15.36642197430763, 23.738251483261998, 33.910681596838955, 58.01377381517117, 17.281029893519772, 23.434756896759232, 23.868763649220355, 25.799639595505877, 27.55437347258666, 65.06635610610448, 56.00037391835691, 65.06635610610448, 15.36642197430763, 25.799639595505877, 33.910681596838955, 21.476497981516935, 21.489068390938012, 58.01377381517117, 17.281029893519772, 23.434756896759232, 23.738251483261998, 23.868763649220355, 27.55437347258666, 65.06635610610448, 23.738251483261998, 23.868763649220355, 17.281029893519772, 27.55437347258666, 21.476497981516935, 23.434756896759232, 56.00037391835691, 58.01377381517117, 15.36642197430763, 21.489068390938012, 25.799639595505877, 33.910681596838955], \"Category\": [\"Default\", \"Default\", \"Default\", \"Default\", \"Default\", \"Default\", \"Default\", \"Default\", \"Default\", \"Default\", \"Default\", \"Default\", \"Default\", \"Topic1\", \"Topic1\", \"Topic1\", \"Topic1\", \"Topic1\", \"Topic1\", \"Topic1\", \"Topic1\", \"Topic1\", \"Topic1\", \"Topic1\", \"Topic1\", \"Topic1\", \"Topic2\", \"Topic2\", \"Topic2\", \"Topic2\", \"Topic2\", \"Topic2\", \"Topic2\", \"Topic2\", \"Topic2\", \"Topic2\", \"Topic2\", \"Topic2\", \"Topic2\", \"Topic3\", \"Topic3\", \"Topic3\", \"Topic3\", \"Topic3\", \"Topic3\", \"Topic3\", \"Topic3\", \"Topic3\", \"Topic3\", \"Topic3\", \"Topic3\", \"Topic3\", \"Topic4\", \"Topic4\", \"Topic4\", \"Topic4\", \"Topic4\", \"Topic4\", \"Topic4\", \"Topic4\", \"Topic4\", \"Topic4\", \"Topic4\", \"Topic4\", \"Topic4\", \"Topic5\", \"Topic5\", \"Topic5\", \"Topic5\", \"Topic5\", \"Topic5\", \"Topic5\", \"Topic5\", \"Topic5\", \"Topic5\", \"Topic5\", \"Topic5\", \"Topic5\", \"Topic6\", \"Topic6\", \"Topic6\", \"Topic6\", \"Topic6\", \"Topic6\", \"Topic6\", \"Topic6\", \"Topic6\", \"Topic6\", \"Topic6\", \"Topic6\", \"Topic6\", \"Topic7\", \"Topic7\", \"Topic7\", \"Topic7\", \"Topic7\", \"Topic7\", \"Topic7\", \"Topic7\", \"Topic7\", \"Topic7\", \"Topic7\", \"Topic7\", \"Topic7\", \"Topic8\", \"Topic8\", \"Topic8\", \"Topic8\", \"Topic8\", \"Topic8\", \"Topic8\", \"Topic8\", \"Topic8\", \"Topic8\", \"Topic8\", \"Topic8\", \"Topic8\", \"Topic9\", \"Topic9\", \"Topic9\", \"Topic9\", \"Topic9\", \"Topic9\", \"Topic9\", \"Topic9\", \"Topic9\", \"Topic9\", \"Topic9\", \"Topic9\", \"Topic9\", \"Topic10\", \"Topic10\", \"Topic10\", \"Topic10\", \"Topic10\", \"Topic10\", \"Topic10\", \"Topic10\", \"Topic10\", \"Topic10\", \"Topic10\", \"Topic10\", \"Topic10\"], \"logprob\": [13.0, 12.0, 11.0, 10.0, 9.0, 8.0, 7.0, 6.0, 5.0, 4.0, 3.0, 2.0, 1.0, -0.3124, -2.3977, -2.8801, -2.667, -4.5029, -4.1334, -4.8625, -5.0951, -5.0942, -6.7473, -6.7464, -6.7468, -6.7421, -1.4585, -1.5724, -0.7331, -3.216, -4.659, -4.659, -4.6579, -6.3105, -6.3109, -6.3094, -6.3098, -6.3088, -6.3061, -1.4109, -1.0768, -1.1768, -2.6133, -4.5058, -4.633, -6.2859, -6.2858, -6.2846, -6.2856, -6.286, -6.2817, -6.282, -0.8172, -1.7876, -1.9145, -3.2093, -2.3768, -3.4875, -3.1651, -4.0919, -5.0819, -5.1051, -5.0816, -6.7571, -6.7578, -0.174, -2.7321, -3.2131, -4.175, -4.1739, -5.8265, -5.8266, -5.8271, -5.8265, -5.827, -5.8254, -5.8242, -5.8228, -0.7, -2.1246, -2.0064, -3.0254, -2.3925, -3.0249, -3.7043, -3.9871, -5.639, -5.6392, -5.6384, -5.6389, -5.635, -0.4602, -2.4281, -2.0899, -2.4828, -3.8179, -3.8178, -5.4704, -5.4704, -5.4706, -5.4703, -5.4706, -5.4695, -5.4657, -0.7574, -2.3224, -1.5321, -2.9608, -2.9608, -2.9605, -3.5525, -5.2048, -5.2043, -5.2049, -5.2047, -5.204, -5.2008, -0.9559, -1.1165, -2.7514, -2.4822, -3.1206, -3.7133, -3.7134, -3.7126, -5.3647, -5.3637, -5.365, -5.3654, -5.364, -0.6353, -1.7259, -2.6716, -3.0413, -3.0411, -3.5794, -3.6334, -3.6325, -3.6325, -5.2849, -5.2855, -5.2847, -5.2842], \"loglift\": [13.0, 12.0, 11.0, 10.0, 9.0, 8.0, 7.0, 6.0, 5.0, 4.0, 3.0, 2.0, 1.0, 1.6504, 0.4532, -0.0238, -0.1673, -1.329, -1.4261, -1.5712, -2.1386, -3.2462, -3.7914, -3.8771, -3.9737, -4.744, 1.3923, 1.2839, 1.265, -0.2595, -1.4852, -1.8859, -2.6951, -3.0192, -3.355, -3.4401, -3.6025, -3.8091, -4.458, 1.7629, 1.6305, 1.5963, 0.3427, -2.0061, -2.785, -2.9947, -3.3293, -3.4154, -3.4292, -3.4351, -4.2836, -4.3192, 1.6825, 1.5037, 0.0836, -0.502, -0.5287, -0.6183, -1.2024, -1.241, -1.9081, -2.2487, -2.3085, -3.8006, -3.8019, 1.6741, 0.1371, -0.44, -1.0012, -2.1758, -2.5352, -2.8701, -2.8712, -2.9702, -2.9761, -3.1181, -3.3245, -3.8601, 2.2565, 0.8313, 0.7667, -0.169, -0.5445, -1.0268, -1.2046, -1.2798, -2.3478, -2.4653, -2.7692, -2.788, -3.6722, 2.409, 0.8632, 0.6174, -0.4847, -1.3182, -1.855, -2.2965, -2.5139, -2.5147, -2.6139, -2.6197, -2.6964, -3.6177, 2.1986, 0.6341, 0.466, 0.3304, -0.1045, -0.4608, -1.5897, -2.031, -2.3351, -2.354, -2.4316, -2.4967, -3.3528, 1.0421, 0.7315, 0.5399, 0.2908, -0.6209, -0.7568, -0.7575, -1.7498, -2.1909, -2.4944, -2.5087, -2.5145, -2.6567, 1.2128, 1.1305, 0.1792, 0.1326, -0.3338, -0.6229, -0.7642, -1.6344, -1.6697, -1.9936, -2.3296, -2.5116, -2.7844]}, \"token.table\": {\"Topic\": [1, 3, 4, 6, 7, 8, 9, 3, 4, 5, 6, 9, 10, 2, 3, 5, 6, 9, 1, 2, 6, 8, 10, 4, 5, 7, 1, 4, 7, 8, 9, 1, 2, 3, 5, 10, 1, 2, 4, 10, 1, 3, 4, 6, 7, 10, 2, 6, 8, 1, 2, 4, 7, 8, 3, 6, 8, 2, 4, 5, 6, 7, 8, 9], \"Freq\": [0.14744616635680022, 0.029489233271360042, 0.707741598512641, 0.029489233271360042, 0.029489233271360042, 0.029489233271360042, 0.029489233271360042, 0.015368925814276246, 0.07684462907138123, 0.6301259583853261, 0.04610677744282874, 0.09221355488565748, 0.13832033232848623, 0.038760231370603845, 0.6589239333002653, 0.07752046274120769, 0.15504092548241538, 0.038760231370603845, 0.168504407446371, 0.5476393242007057, 0.04212610186159275, 0.04212610186159275, 0.12637830558477825, 0.08534332183648885, 0.12801498275473328, 0.7254182356101553, 0.06507695816709845, 0.5856926235038861, 0.1301539163341969, 0.06507695816709845, 0.06507695816709845, 0.05786692148336546, 0.05786692148336546, 0.8101369007671164, 0.05786692148336546, 0.05786692148336546, 0.2932703219518723, 0.6284364041825835, 0.0418957602788389, 0.0418957602788389, 0.03629187943594078, 0.6895457092828748, 0.07258375887188157, 0.03629187943594078, 0.10887563830782233, 0.03629187943594078, 0.13968757860717584, 0.6518753668334872, 0.13968757860717584, 0.8963388619686984, 0.017237285807090354, 0.03447457161418071, 0.017237285807090354, 0.017237285807090354, 0.18614115452705288, 0.13960586589528964, 0.6049587522129218, 0.5357107087130718, 0.14285618899015248, 0.01785702362376906, 0.01785702362376906, 0.03571404724753812, 0.10714214174261436, 0.12499916536638342], \"Term\": [\"free\", \"free\", \"free\", \"free\", \"free\", \"free\", \"free\", \"game\", \"game\", \"game\", \"game\", \"game\", \"game\", \"keyboard\", \"keyboard\", \"keyboard\", \"keyboard\", \"keyboard\", \"live\", \"live\", \"live\", \"live\", \"live\", \"mobile\", \"mobile\", \"mobile\", \"music\", \"music\", \"music\", \"music\", \"music\", \"offline\", \"offline\", \"offline\", \"offline\", \"offline\", \"online\", \"online\", \"online\", \"online\", \"photo\", \"photo\", \"photo\", \"photo\", \"photo\", \"photo\", \"puzzle\", \"puzzle\", \"puzzle\", \"radio\", \"radio\", \"radio\", \"radio\", \"radio\", \"theme\", \"theme\", \"theme\", \"wallpaper\", \"wallpaper\", \"wallpaper\", \"wallpaper\", \"wallpaper\", \"wallpaper\", \"wallpaper\"]}, \"R\": 13, \"lambda.step\": 0.01, \"plot.opts\": {\"xlab\": \"PC1\", \"ylab\": \"PC2\"}, \"topic.order\": [4, 9, 6, 10, 7, 3, 8, 1, 5, 2]};\n",
              "\n",
              "function LDAvis_load_lib(url, callback){\n",
              "  var s = document.createElement('script');\n",
              "  s.src = url;\n",
              "  s.async = true;\n",
              "  s.onreadystatechange = s.onload = callback;\n",
              "  s.onerror = function(){console.warn(\"failed to load library \" + url);};\n",
              "  document.getElementsByTagName(\"head\")[0].appendChild(s);\n",
              "}\n",
              "\n",
              "if(typeof(LDAvis) !== \"undefined\"){\n",
              "   // already loaded: just create the visualization\n",
              "   !function(LDAvis){\n",
              "       new LDAvis(\"#\" + \"ldavis_el10384121345112482559176417\", ldavis_el10384121345112482559176417_data);\n",
              "   }(LDAvis);\n",
              "}else if(typeof define === \"function\" && define.amd){\n",
              "   // require.js is available: use it to load d3/LDAvis\n",
              "   require.config({paths: {d3: \"https://d3js.org/d3.v5\"}});\n",
              "   require([\"d3\"], function(d3){\n",
              "      window.d3 = d3;\n",
              "      LDAvis_load_lib(\"https://cdn.jsdelivr.net/gh/bmabey/pyLDAvis@3.4.0/pyLDAvis/js/ldavis.v3.0.0.js\", function(){\n",
              "        new LDAvis(\"#\" + \"ldavis_el10384121345112482559176417\", ldavis_el10384121345112482559176417_data);\n",
              "      });\n",
              "    });\n",
              "}else{\n",
              "    // require.js not available: dynamically load d3 & LDAvis\n",
              "    LDAvis_load_lib(\"https://d3js.org/d3.v5.js\", function(){\n",
              "         LDAvis_load_lib(\"https://cdn.jsdelivr.net/gh/bmabey/pyLDAvis@3.4.0/pyLDAvis/js/ldavis.v3.0.0.js\", function(){\n",
              "                 new LDAvis(\"#\" + \"ldavis_el10384121345112482559176417\", ldavis_el10384121345112482559176417_data);\n",
              "            })\n",
              "         });\n",
              "}\n",
              "</script>"
            ],
            "text/plain": [
              "<IPython.core.display.HTML object>"
            ]
          },
          "execution_count": 20,
          "metadata": {},
          "output_type": "execute_result"
        }
      ],
      "source": [
        "%matplotlib inline\n",
        "import pyLDAvis\n",
        "import pyLDAvis.gensim as gensimvis\n",
        "\n",
        "vis = pyLDAvis.gensim.prepare(topic_model=lda_model, corpus=bow_corpus, dictionary=dictionary)\n",
        "pyLDAvis.enable_notebook()\n",
        "pyLDAvis.display(vis)"
      ]
    },
    {
      "cell_type": "code",
      "execution_count": 21,
      "metadata": {
        "colab": {
          "base_uri": "https://localhost:8080/"
        },
        "id": "LhMgyRZ_-kWc",
        "outputId": "1144943a-4862-4a8a-e623-902dfca4673d"
      },
      "outputs": [
        {
          "name": "stdout",
          "output_type": "stream",
          "text": [
            "6 : game : 0.52979636\n",
            "11 : live : 0.17802015\n",
            "0 : online : 0.06913897\n",
            "9 : photo : 0.047782816\n",
            "5 : offline : 0.047773737\n",
            "7 : puzzle : 0.02789147\n",
            "8 : radio : 0.026449729\n",
            "2 : wallpaper : 0.026449714\n",
            "4 : mobile : 0.026425282\n",
            "3 : free : 0.005071332\n",
            "10 : keyboard : 0.0050684614\n",
            "12 : music : 0.0050675417\n",
            "1 : theme : 0.0050643575\n"
          ]
        }
      ],
      "source": [
        "#get the top 20 words and their weights for a specific topic\n",
        "topic_id=1\n",
        "top_terms=20\n",
        "for wordid, score in lda_model.get_topic_terms(topic_id, top_terms):\n",
        "    print(wordid, \":\", dictionary[wordid], \":\", score)"
      ]
    },
    {
      "cell_type": "code",
      "execution_count": 22,
      "metadata": {
        "id": "YtgtWlZE-kWc"
      },
      "outputs": [],
      "source": [
        "#### Utility function to get the id for a word\n",
        "def get_id_for_word(dictionary, word):\n",
        "    for k, v in dictionary.iteritems():\n",
        "        if (v==word):\n",
        "            return k\n",
        "    return -1"
      ]
    },
    {
      "cell_type": "code",
      "execution_count": 23,
      "metadata": {
        "id": "F2DPIRMI-kWc",
        "outputId": "a9754e30-2622-4bcf-ca21-67d7e37e4a44"
      },
      "outputs": [
        {
          "name": "stdout",
          "output_type": "stream",
          "text": [
            "Topic: 0\n",
            "1 : theme : 0.468907\n",
            "2 : wallpaper : 0.21608616\n",
            "7 : puzzle : 0.098039754\n",
            "3 : free : 0.051793195\n",
            "12 : music : 0.051776037\n",
            "11 : live : 0.051774904\n",
            "8 : radio : 0.02865327\n",
            "6 : game : 0.0055119107\n",
            "9 : photo : 0.005494679\n",
            "4 : mobile : 0.005492675\n",
            "10 : keyboard : 0.0054909512\n",
            "5 : offline : 0.005489902\n",
            "0 : online : 0.0054895245\n",
            "Topic: 4\n",
            "2 : wallpaper : 0.3844494\n",
            "6 : game : 0.32742256\n",
            "10 : keyboard : 0.08355557\n",
            "12 : music : 0.06383954\n",
            "3 : free : 0.044129886\n",
            "8 : radio : 0.02441434\n",
            "7 : puzzle : 0.024396054\n",
            "1 : theme : 0.02439526\n",
            "4 : mobile : 0.0046837186\n",
            "9 : photo : 0.0046820077\n",
            "5 : offline : 0.004678735\n",
            "11 : live : 0.0046772393\n",
            "0 : online : 0.0046757464\n",
            "Topic: 7\n",
            "4 : mobile : 0.6311384\n",
            "9 : photo : 0.12370412\n",
            "12 : music : 0.08820523\n",
            "2 : wallpaper : 0.083512336\n",
            "8 : radio : 0.02197719\n",
            "3 : free : 0.02197343\n",
            "6 : game : 0.004229419\n",
            "10 : keyboard : 0.0042132167\n",
            "11 : live : 0.0042100265\n",
            "5 : offline : 0.004209694\n",
            "7 : puzzle : 0.0042094057\n",
            "1 : theme : 0.0042087846\n",
            "0 : online : 0.004208767\n",
            "Topic: 9\n",
            "3 : free : 0.44167683\n",
            "12 : music : 0.16736789\n",
            "2 : wallpaper : 0.14741796\n",
            "6 : game : 0.092849925\n",
            "8 : radio : 0.04220864\n",
            "9 : photo : 0.040385846\n",
            "4 : mobile : 0.030576939\n",
            "0 : online : 0.01670763\n",
            "10 : keyboard : 0.006210045\n",
            "5 : offline : 0.0062081697\n",
            "11 : live : 0.0060656997\n",
            "7 : puzzle : 0.001162642\n",
            "1 : theme : 0.0011617565\n"
          ]
        }
      ],
      "source": [
        "top_terms=20\n",
        "index=get_id_for_word(dictionary,'market')\n",
        "for topic_id, score in lda_model.get_term_topics(index):\n",
        "    print(\"Topic:\", topic_id)\n",
        "    for wordid, score in lda_model.get_topic_terms(topic_id, top_terms):\n",
        "        print(wordid, \":\", dictionary[wordid], \":\", score)"
      ]
    },
    {
      "cell_type": "markdown",
      "metadata": {
        "id": "kB5N3d6k-kWc"
      },
      "source": [
        "## Saving and loading your model for re-use\n",
        "\n",
        "Building a model takes time.Once you have a stable model, you can save it to disk and reload it later."
      ]
    },
    {
      "cell_type": "code",
      "execution_count": 24,
      "metadata": {
        "id": "kepqKd4K-kWc"
      },
      "outputs": [],
      "source": [
        "# Save model to disk.\n",
        "from gensim.models import LdaModel\n",
        "temp_file = \"./model\"\n",
        "lda_model.save(temp_file)\n",
        "\n",
        "# Load a potentially pretrained model from disk.\n",
        "loaded_lda = LdaModel.load(temp_file)"
      ]
    },
    {
      "cell_type": "markdown",
      "metadata": {
        "id": "lHdatPRk-kWd"
      },
      "source": [
        "## End of this notebook"
      ]
    },
    {
      "cell_type": "code",
      "execution_count": null,
      "metadata": {
        "id": "K7Ob3gfP-kWd"
      },
      "outputs": [],
      "source": []
    }
  ],
  "metadata": {
    "colab": {
      "include_colab_link": true,
      "provenance": []
    },
    "kernelspec": {
      "display_name": "Python 3",
      "language": "python",
      "name": "python3"
    },
    "language_info": {
      "codemirror_mode": {
        "name": "ipython",
        "version": 3
      },
      "file_extension": ".py",
      "mimetype": "text/x-python",
      "name": "python",
      "nbconvert_exporter": "python",
      "pygments_lexer": "ipython3",
      "version": "3.11.4"
    }
  },
  "nbformat": 4,
  "nbformat_minor": 0
}
